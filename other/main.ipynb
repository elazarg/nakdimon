{
 "cells": [
  {
   "cell_type": "code",
   "execution_count": 1,
   "metadata": {},
   "outputs": [],
   "source": [
    "%load_ext autoreload\n",
    "%autoreload 2"
   ]
  },
  {
   "cell_type": "code",
   "execution_count": 2,
   "metadata": {},
   "outputs": [],
   "source": [
    "import os\n",
    "\n",
    "import numpy as np\n",
    "from tensorflow import keras\n",
    "from tensorflow.keras import layers\n",
    "\n",
    "import tensorflow as tf\n",
    "import tensorflowjs as tfjs\n",
    "\n",
    "import wandb\n",
    "from wandb.keras import WandbCallback\n",
    "\n",
    "import dataset\n",
    "import schedulers\n",
    "\n",
    "assert tf.config.list_physical_devices('GPU')"
   ]
  },
  {
   "cell_type": "code",
   "execution_count": 3,
   "metadata": {},
   "outputs": [],
   "source": [
    "def masked_metric(v, y_true):\n",
    "    mask = tf.math.not_equal(y_true, 0)\n",
    "    return tf.reduce_sum(tf.boolean_mask(v, mask)) / tf.cast(tf.math.count_nonzero(mask), tf.float32)\n",
    "\n",
    "def accuracy(y_true, y_pred):\n",
    "    return masked_metric(tf.keras.metrics.sparse_categorical_accuracy(y_true, y_pred), y_true)\n",
    "\n",
    "def sparse_categorical_crossentropy(y_true, y_pred):\n",
    "    return masked_metric(tf.keras.losses.sparse_categorical_crossentropy(y_true, y_pred, from_logits=True), y_true)\n",
    "\n",
    "def get_xy(d):\n",
    "    if d is None:\n",
    "        return None\n",
    "    d.shuffle()\n",
    "    x = d.normalized\n",
    "    y = {'N': d.niqqud, 'D': d.dagesh, 'S': d.sin }\n",
    "    return (x, y)\n"
   ]
  },
  {
   "cell_type": "code",
   "execution_count": 4,
   "metadata": {},
   "outputs": [],
   "source": [
    "corpus = {}\n",
    "corpus['mix'] = dataset.read_corpora([\n",
    "    'hebrew_diacritized/poetry',\n",
    "    'hebrew_diacritized/rabanit',\n",
    "    'hebrew_diacritized/pre_modern'])\n",
    "\n",
    "corpus['modern'] = dataset.read_corpora([\n",
    "    'hebrew_diacritized/modern'])\n"
   ]
  },
  {
   "cell_type": "code",
   "execution_count": 5,
   "metadata": {},
   "outputs": [],
   "source": [
    "MAXLEN = 90\n",
    "\n",
    "data = {}\n",
    "np.random.seed(2)\n",
    "data['mix'] = dataset.load_data(corpus['mix'], validation_rate=0.01, maxlen=MAXLEN)\n",
    "np.random.seed(2)\n",
    "data['modern'] = dataset.load_data(corpus['modern'], validation_rate=0.1, maxlen=MAXLEN)\n"
   ]
  },
  {
   "cell_type": "code",
   "execution_count": 6,
   "metadata": {},
   "outputs": [],
   "source": [
    "LETTERS_SIZE = len(dataset.letters_table)\n",
    "NIQQUD_SIZE = len(dataset.niqqud_table)\n",
    "DAGESH_SIZE = len(dataset.dagesh_table)\n",
    "SIN_SIZE = len(dataset.sin_table)\n",
    "\n",
    "def build_model(units):\n",
    "    inp = keras.Input(shape=(None,), batch_size=None)\n",
    "    embed = layers.Embedding(LETTERS_SIZE, units, mask_zero=True)(inp)\n",
    "    \n",
    "    layer = layers.Bidirectional(layers.LSTM(units, return_sequences=True, dropout=0.1), merge_mode='sum')(embed)\n",
    "    layer = layers.Bidirectional(layers.LSTM(units, return_sequences=True, dropout=0.1), merge_mode='sum')(layer)\n",
    "    layer = layers.Dense(units)(layer)\n",
    "\n",
    "    outputs = [\n",
    "        layers.Dense(NIQQUD_SIZE, name='N')(layer),\n",
    "        layers.Dense(DAGESH_SIZE, name='D')(layer),\n",
    "        layers.Dense(SIN_SIZE, name='S')(layer),\n",
    "    ]\n",
    "    return keras.Model(inputs=inp, outputs=outputs)\n",
    "\n",
    "\n",
    "def real_evaluation(model, data, s=slice(0, None), print_comparison=True):\n",
    "    batch = data.normalized[s]\n",
    "    prediction = model.predict(batch)\n",
    "    [actual_niqqud, actual_dagesh, actual_sin] = [dataset.from_categorical(prediction[0]), dataset.from_categorical(prediction[1]), dataset.from_categorical(prediction[2])]\n",
    "    [expected_niqqud, expected_dagesh, expected_sin] = [data.niqqud[s], data.dagesh[s], data.sin[s]]\n",
    "    actual_niqqud[expected_niqqud==0] = 0\n",
    "    actual_dagesh[expected_dagesh==0] = 0\n",
    "    actual_sin[expected_sin==0] = 0\n",
    "    actual = dataset.merge(data.text[s], batch, actual_niqqud, actual_dagesh, actual_sin)\n",
    "    expected = dataset.merge(data.text[s], batch, expected_niqqud, expected_dagesh, expected_sin)\n",
    "    total_decisions = []\n",
    "    total_words = []\n",
    "    total_letters = []\n",
    "    for i, (b, a, e) in enumerate(zip(batch, actual, expected)):\n",
    "        decisions = []\n",
    "        decisions.extend(expected_niqqud[i][expected_niqqud[i]>0] == actual_niqqud[i][expected_niqqud[i]>0])\n",
    "        decisions.extend(expected_dagesh[i][expected_dagesh[i]>0] == actual_dagesh[i][expected_dagesh[i]>0])\n",
    "        decisions.extend(expected_sin[i][expected_sin[i]>0] == actual_sin[i][expected_sin[i]>0])\n",
    "        total_decisions.extend(decisions)\n",
    "        \n",
    "\n",
    "        either = (expected_niqqud[i]>0) | (expected_dagesh[i]>0) | (expected_sin[i]>0)\n",
    "        letters = ((expected_niqqud[i][either] == actual_niqqud[i][either])\n",
    "                 & (expected_dagesh[i][either] == actual_dagesh[i][either])\n",
    "                 & (expected_sin[i][either]    == actual_sin[i][either]))\n",
    "        total_letters.extend(letters)\n",
    "        \n",
    "        words = []\n",
    "        for aw, ew in zip(a.split(), e.split()):\n",
    "            if len([x for x in 'אבגדהוזחטיכלמנסעפצקרשתךםןףץ' if x in aw]) > 1:\n",
    "                words.append(aw == ew)\n",
    "                if print_comparison and aw != ew:\n",
    "                    print(aw, ew)\n",
    "        total_words.extend(words)\n",
    "        \n",
    "        if print_comparison:\n",
    "            print('מצוי: ', a)\n",
    "            print('רצוי: ', e)\n",
    "            print(f'letters: {np.mean(letters):.2%} ({len(letters)-np.sum(letters)} out of {len(letters)})')\n",
    "            print(f'decisions: {np.mean(decisions):.2%} ({len(decisions)-np.sum(decisions)} out of {len(decisions)})')\n",
    "            print(f'words: {np.mean(words):.2%} ({len(words)-np.sum(words)} out of {len(words)})')\n",
    "            print()\n",
    "    letters = np.mean(total_letters)\n",
    "    decisions = np.mean(total_decisions)\n",
    "    words = np.mean(total_words)\n",
    "    print(f'letters: {letters:.2%}, decisions: {decisions:.2%}, words: {words:.2%}')\n",
    "    return (letters, decisions, words)\n"
   ]
  },
  {
   "cell_type": "code",
   "execution_count": 7,
   "metadata": {
    "scrolled": true
   },
   "outputs": [
    {
     "name": "stdout",
     "output_type": "stream",
     "text": [
      "env: WANDB_MODE=dryrun\n"
     ]
    },
    {
     "name": "stderr",
     "output_type": "stream",
     "text": [
      "wandb: Offline run mode, not syncing to the cloud.\n",
      "wandb: W&B is disabled in this directory.  Run `wandb on` to enable cloud syncing.\n"
     ]
    },
    {
     "name": "stdout",
     "output_type": "stream",
     "text": [
      "1636/1636 [==============================] - 278s 148ms/step - loss: 1.1109 - N_loss: 0.6972 - D_loss: 0.2073 - S_loss: 0.2064 - N_accuracy: 0.7610 - D_accuracy: 0.9198 - S_accuracy: 0.9426 - val_loss: 0.5110 - val_N_loss: 0.2298 - val_D_loss: 0.1655 - val_S_loss: 0.1157 - val_N_accuracy: 0.9263 - val_D_accuracy: 0.9420 - val_S_accuracy: 0.9722\n",
      "letters: 85.48%, decisions: 91.57%, words: 64.75%\n",
      "Epoch 2/6\n",
      "255/255 [==============================] - 38s 148ms/step - loss: 0.2697 - N_loss: 0.1695 - D_loss: 0.0662 - S_loss: 0.0340 - N_accuracy: 0.9425 - D_accuracy: 0.9753 - S_accuracy: 0.9914 - val_loss: 0.2176 - val_N_loss: 0.1308 - val_D_loss: 0.0517 - val_S_loss: 0.0351 - val_N_accuracy: 0.9566 - val_D_accuracy: 0.9818 - val_S_accuracy: 0.9914\n",
      "Epoch 3/6\n",
      "255/255 [==============================] - 38s 148ms/step - loss: 0.1543 - N_loss: 0.0970 - D_loss: 0.0408 - S_loss: 0.0165 - N_accuracy: 0.9670 - D_accuracy: 0.9850 - S_accuracy: 0.9957 - val_loss: 0.2053 - val_N_loss: 0.1199 - val_D_loss: 0.0473 - val_S_loss: 0.0381 - val_N_accuracy: 0.9623 - val_D_accuracy: 0.9838 - val_S_accuracy: 0.9915\n",
      "Epoch 4/6\n",
      "255/255 [==============================] - 38s 148ms/step - loss: 0.1159 - N_loss: 0.0728 - D_loss: 0.0325 - S_loss: 0.0106 - N_accuracy: 0.9751 - D_accuracy: 0.9881 - S_accuracy: 0.9969 - val_loss: 0.2012 - val_N_loss: 0.1177 - val_D_loss: 0.0459 - val_S_loss: 0.0376 - val_N_accuracy: 0.9631 - val_D_accuracy: 0.9836 - val_S_accuracy: 0.9915\n",
      "Epoch 5/6\n",
      "255/255 [==============================] - 38s 148ms/step - loss: 0.0675 - N_loss: 0.0420 - D_loss: 0.0212 - S_loss: 0.0044 - N_accuracy: 0.9856 - D_accuracy: 0.9924 - S_accuracy: 0.9987 - val_loss: 0.2025 - val_N_loss: 0.1141 - val_D_loss: 0.0470 - val_S_loss: 0.0414 - val_N_accuracy: 0.9682 - val_D_accuracy: 0.9857 - val_S_accuracy: 0.9935\n",
      "Epoch 6/6\n",
      "255/255 [==============================] - 38s 148ms/step - loss: 0.0460 - N_loss: 0.0288 - D_loss: 0.0156 - S_loss: 0.0016 - N_accuracy: 0.9903 - D_accuracy: 0.9944 - S_accuracy: 0.9995 - val_loss: 0.2055 - val_N_loss: 0.1148 - val_D_loss: 0.0478 - val_S_loss: 0.0429 - val_N_accuracy: 0.9686 - val_D_accuracy: 0.9858 - val_S_accuracy: 0.9935\n",
      "letters: 95.92%, decisions: 97.68%, words: 88.22%\n"
     ]
    },
    {
     "data": {
      "text/html": [
       "<br/>Waiting for W&B process to finish, PID 21716<br/>Program ended successfully."
      ],
      "text/plain": [
       "<IPython.core.display.HTML object>"
      ]
     },
     "metadata": {},
     "output_type": "display_data"
    },
    {
     "data": {
      "text/html": [
       "Find user logs for this run at: <code>wandb\\offline-run-20210121_210719-2z1mn0qk\\logs\\debug.log</code>"
      ],
      "text/plain": [
       "<IPython.core.display.HTML object>"
      ]
     },
     "metadata": {},
     "output_type": "display_data"
    },
    {
     "data": {
      "text/html": [
       "Find internal logs for this run at: <code>wandb\\offline-run-20210121_210719-2z1mn0qk\\logs\\debug-internal.log</code>"
      ],
      "text/plain": [
       "<IPython.core.display.HTML object>"
      ]
     },
     "metadata": {},
     "output_type": "display_data"
    },
    {
     "data": {
      "text/html": [
       "<h3>Run summary:</h3><br/><style>\n",
       "    table.wandb td:nth-child(1) { padding: 0 10px; text-align: right }\n",
       "    </style><table class=\"wandb\">\n",
       "<tr><td>loss</td><td>0.04595</td></tr><tr><td>N_loss</td><td>0.02882</td></tr><tr><td>D_loss</td><td>0.01556</td></tr><tr><td>S_loss</td><td>0.00158</td></tr><tr><td>N_accuracy</td><td>0.99031</td></tr><tr><td>D_accuracy</td><td>0.99442</td></tr><tr><td>S_accuracy</td><td>0.99954</td></tr><tr><td>_step</td><td>69</td></tr><tr><td>_runtime</td><td>479</td></tr><tr><td>_timestamp</td><td>1611256519</td></tr><tr><td>epoch</td><td>5</td></tr><tr><td>val_loss</td><td>0.20546</td></tr><tr><td>val_N_loss</td><td>0.1148</td></tr><tr><td>val_D_loss</td><td>0.0478</td></tr><tr><td>val_S_loss</td><td>0.04286</td></tr><tr><td>val_N_accuracy</td><td>0.96859</td></tr><tr><td>val_D_accuracy</td><td>0.98577</td></tr><tr><td>val_S_accuracy</td><td>0.99345</td></tr><tr><td>best_val_loss</td><td>0.20123</td></tr><tr><td>best_epoch</td><td>3</td></tr><tr><td>index</td><td>0</td></tr><tr><td>letters</td><td>0.95923</td></tr><tr><td>decisions</td><td>0.9768</td></tr><tr><td>words</td><td>0.88224</td></tr></table>"
      ],
      "text/plain": [
       "<IPython.core.display.HTML object>"
      ]
     },
     "metadata": {},
     "output_type": "display_data"
    },
    {
     "data": {
      "text/html": [
       "<h3>Run history:</h3><br/><style>\n",
       "    table.wandb td:nth-child(1) { padding: 0 10px; text-align: right }\n",
       "    </style><table class=\"wandb\">\n",
       "<tr><td>loss</td><td>█▅▄▃▃▃▂▂▂▂▂▂▂▂▂▂▂▂▂▂▂▁▁▁▁▁▁▁▁▁▁▁▁▁▁▁▁▁▁▁</td></tr><tr><td>N_loss</td><td>█▆▄▄▃▃▃▃▃▂▂▂▂▂▂▂▂▂▂▂▂▁▁▁▁▁▁▁▁▁▁▁▁▁▁▁▁▁▁▁</td></tr><tr><td>D_loss</td><td>█▅▃▃▃▂▂▂▂▂▂▂▂▂▂▂▂▂▂▂▂▁▁▁▁▁▁▁▁▁▁▁▁▁▁▁▁▁▁▁</td></tr><tr><td>S_loss</td><td>█▄▃▂▂▂▂▂▂▂▂▂▂▂▂▂▂▂▂▂▂▁▁▁▁▁▁▁▁▁▁▁▁▁▁▁▁▁▁▁</td></tr><tr><td>N_accuracy</td><td>▁▃▅▅▆▆▆▆▆▇▇▇▇▇▇▇▇▇▇▇▇███████████████████</td></tr><tr><td>D_accuracy</td><td>▁▆▇▇▇▇▇▇▇▇██████████████████████████████</td></tr><tr><td>S_accuracy</td><td>▁▇▇▇▇███████████████████████████████████</td></tr><tr><td>_step</td><td>▁▁▁▂▂▂▂▂▂▃▃▃▃▃▃▄▄▄▄▄▅▅▅▅▅▅▆▆▆▆▆▆▇▇▇▇▇███</td></tr><tr><td>_runtime</td><td>▁▁▁▂▂▂▂▂▃▃▃▃▃▄▄▄▄▄▅▅▅▅▅▆▆▆▆▆▆▆▇▇▇▇▇▇▇███</td></tr><tr><td>_timestamp</td><td>▁▁▁▂▂▂▂▂▃▃▃▃▃▄▄▄▄▄▅▅▅▅▅▆▆▆▆▆▆▆▇▇▇▇▇▇▇███</td></tr><tr><td>epoch</td><td>▁▂▄▅▇█</td></tr><tr><td>val_loss</td><td>█▁▁▁▁▁</td></tr><tr><td>val_N_loss</td><td>█▂▁▁▁▁</td></tr><tr><td>val_D_loss</td><td>█▁▁▁▁▁</td></tr><tr><td>val_S_loss</td><td>█▁▁▁▂▂</td></tr><tr><td>val_N_accuracy</td><td>▁▆▇▇██</td></tr><tr><td>val_D_accuracy</td><td>▁▇████</td></tr><tr><td>val_S_accuracy</td><td>▁▇▇▇██</td></tr><tr><td>index</td><td>▁</td></tr><tr><td>letters</td><td>▁</td></tr><tr><td>decisions</td><td>▁</td></tr><tr><td>words</td><td>▁</td></tr></table><br/>"
      ],
      "text/plain": [
       "<IPython.core.display.HTML object>"
      ]
     },
     "metadata": {},
     "output_type": "display_data"
    },
    {
     "name": "stderr",
     "output_type": "stream",
     "text": [
      "wandb: You can sync this run to the cloud by running:\n",
      "wandb: wandb sync wandb\\offline-run-20210121_210719-2z1mn0qk\n"
     ]
    }
   ],
   "source": [
    "%env WANDB_MODE dryrun\n",
    "\n",
    "def experiment(n):\n",
    "    BATCH_SIZE = 64\n",
    "    UNITS = 400\n",
    "    np.random.seed(2)\n",
    "    model = build_model(units=UNITS)\n",
    "    model.compile(loss=sparse_categorical_crossentropy,\n",
    "                  optimizer=tf.keras.optimizers.Adam(learning_rate=1e-3),\n",
    "                  metrics=accuracy)\n",
    "\n",
    "#     model.save_weights('./checkpoints/uninit')\n",
    "#     model.load_weights('./checkpoints/mix')\n",
    "    \n",
    "    modern_lrs = [30e-4, 30e-4, 30e-4,  8e-4, 1e-4]\n",
    "    \n",
    "    config = {\n",
    "        'batch_size': BATCH_SIZE,\n",
    "        'maxlen': MAXLEN,\n",
    "        'units': UNITS,\n",
    "        'experiment_id': n,\n",
    "        'order': [\n",
    "              ('mix',    0, 1, schedulers.CircularLearningRate(3e-3, 8e-3, 0e-4, data['mix'][0], BATCH_SIZE), 'mix'),\n",
    "              ('modern', 1, (1 + len(modern_lrs)), tf.keras.callbacks.LearningRateScheduler(lambda epoch, lr: modern_lrs[epoch - 1]), 'modern'),\n",
    "        ],\n",
    "    }\n",
    "\n",
    "    run = wandb.init(project=\"dotter\",\n",
    "                     group=f\"{MAXLEN=} 30:80:0, \" + '-'.join(f'{lr}' for lr in modern_lrs),\n",
    "#                      name=f'30-80-0, 20-30-20-5-1',\n",
    "                     tags=[],\n",
    "                     config=config)\n",
    "    with run:\n",
    "        for kind, initial_epoch, epochs, scheduler, save in config['order']:\n",
    "            train, validation = data[kind]\n",
    "\n",
    "            training_data = (x, y) = get_xy(train)\n",
    "            validation_data = get_xy(validation)\n",
    "\n",
    "            wandb_callback = WandbCallback(log_batch_frequency=50,  # int(len(train.normalized) / BATCH_SIZE / 100),\n",
    "                                           training_data=training_data,\n",
    "                                           validation_data=validation_data,\n",
    "                                           save_model=False,\n",
    "                                           log_weights=False)\n",
    "            \n",
    "            history = model.fit(x, y, validation_data=validation_data,\n",
    "                                initial_epoch=initial_epoch,\n",
    "                                epochs=epochs,\n",
    "                                batch_size=BATCH_SIZE, verbose=1,\n",
    "                                callbacks=[wandb_callback, scheduler])\n",
    "            \n",
    "            letters, decisions, words = real_evaluation(model, data['modern'][1], s=slice(0, None), print_comparison=False)\n",
    "            model.save_weights('./checkpoints/' + save)\n",
    "        run.log({'index': 0, 'letters': letters, 'decisions': decisions, 'words': words})\n",
    "    return model\n",
    "\n",
    "for n in range(1):\n",
    "    model = experiment(n)   # 20-30-20-5-1: 88.08-88.16"
   ]
  },
  {
   "cell_type": "code",
   "execution_count": null,
   "metadata": {},
   "outputs": [],
   "source": [
    "model = build_model(units=512)\n",
    "model.load_weights('./checkpoints/modern_over2')\n",
    "\n",
    "model.compile()\n",
    "model.save('models/modern.h5')\n",
    "tfjs.converters.save_keras_model(model, 'models/')\n",
    "\n",
    "# hack around tfjs bug:\n",
    "with open('models/model.json', encoding='utf8', mode='r') as f:\n",
    "    text = f.read().replace('\"Functional\"', '\"Model\"')\n",
    "with open('models/model.json', encoding='utf8', mode='w') as f:\n",
    "    f.write(text)"
   ]
  },
  {
   "cell_type": "code",
   "execution_count": null,
   "metadata": {},
   "outputs": [],
   "source": [
    "import matplotlib.pyplot as plt\n",
    "\n",
    "fig, ax = plt.subplots(nrows=2, ncols=3)\n",
    "\n",
    "for n, v in enumerate(['accuracy', 'loss'], 0):\n",
    "    for n1, t in enumerate(['N', 'D', 'S'], 0):\n",
    "        p = ax[n][n1]\n",
    "        p.plot(history.history[t + '_' + v][0:])\n",
    "        p.plot(history.history['val_' + t + '_' +  v][0:])\n",
    "        p.legend([t + '_Train', t + '_Test'], loc='center right')\n",
    "\n",
    "plt.tight_layout()"
   ]
  },
  {
   "cell_type": "code",
   "execution_count": null,
   "metadata": {},
   "outputs": [],
   "source": [
    "np.random.seed(3)\n",
    "test, _ = dataset.load_data(dataset.read_corpora(['test/modernTestCorpus/']), 0, MAXLEN)"
   ]
  },
  {
   "cell_type": "code",
   "execution_count": null,
   "metadata": {},
   "outputs": [],
   "source": [
    "model = build_model(units=800)\n",
    "model.load_weights('./checkpoints/modern_over2')\n",
    "x = test.normalized\n",
    "y = {'N': test.niqqud, 'D': test.dagesh, 'S': test.sin }\n",
    "\n",
    "model.compile(loss=sparse_categorical_crossentropy,\n",
    "              metrics={'N': accuracy, 'D': accuracy, 'S': accuracy})\n",
    "\n",
    "_ = model.evaluate(x=x, y=y, batch_size=64)"
   ]
  },
  {
   "cell_type": "code",
   "execution_count": null,
   "metadata": {
    "collapsed": false,
    "jupyter": {
     "outputs_hidden": false
    },
    "pycharm": {
     "name": "#%%\n"
    }
   },
   "outputs": [],
   "source": [
    "import hebrew\n",
    "import dataset"
   ]
  },
  {
   "cell_type": "code",
   "execution_count": null,
   "metadata": {},
   "outputs": [],
   "source": [
    "print(data['modern'][1].normalized[0])\n",
    "print(data['modern'][1].niqqud[0])"
   ]
  },
  {
   "cell_type": "code",
   "execution_count": null,
   "metadata": {},
   "outputs": [],
   "source": [
    "%env WANDB_MODE run\n",
    "config = {\n",
    "        'batch_size': 64,\n",
    "        'units': 500,\n",
    "        'order': [\n",
    "            ('mix',    [(30e-4, 80e-4, 1e-4)], 'mix'),\n",
    "            ('modern', [(50e-4, 50e-4, 1e-5)], 'modern'),\n",
    "            ('modern', [(50e-4, 50e-4, 1e-5),\n",
    "                        # (50e-4, 50e-4, 1e-5),\n",
    "                       ], 'modern_over'),\n",
    "        ],\n",
    "    }\n",
    "run = wandb.init(project=\"dotter\",\n",
    "                 # group=\"maxlen\",\n",
    "                 name=f'maxlen_test',\n",
    "                 tags=['CLR', 'ordered'],\n",
    "                 config=config)\n",
    "\n",
    "with run:\n",
    "    for maxlen, letters, words in [\n",
    "            (75, 0.9511, 0.7778),\n",
    "            (80, 0.9531, 0.7819),\n",
    "            (85, 0.9535, 0.7819),\n",
    "            (90, 0.9526, 0.7841),\n",
    "            (95, 0.9514, 0.7795),\n",
    "    ]:\n",
    "        run.log({'maxlen': maxlen,\n",
    "                 'letters': letters,\n",
    "                 'words': words})\n"
   ]
  },
  {
   "cell_type": "code",
   "execution_count": 17,
   "metadata": {},
   "outputs": [
    {
     "name": "stdout",
     "output_type": "stream",
     "text": [
      "Model: \"functional_27\"\n",
      "__________________________________________________________________________________________________\n",
      "Layer (type)                    Output Shape         Param #     Connected to                     \n",
      "==================================================================================================\n",
      "input_14 (InputLayer)           [(None, None)]       0                                            \n",
      "__________________________________________________________________________________________________\n",
      "embedding_13 (Embedding)        (None, None, 557)    23951       input_14[0][0]                   \n",
      "__________________________________________________________________________________________________\n",
      "bidirectional_16 (Bidirectional (None, None, 557)    4968440     embedding_13[0][0]               \n",
      "__________________________________________________________________________________________________\n",
      "dense_13 (Dense)                (None, None, 557)    310806      bidirectional_16[0][0]           \n",
      "__________________________________________________________________________________________________\n",
      "N (Dense)                       (None, None, 16)     8928        dense_13[0][0]                   \n",
      "__________________________________________________________________________________________________\n",
      "D (Dense)                       (None, None, 3)      1674        dense_13[0][0]                   \n",
      "__________________________________________________________________________________________________\n",
      "S (Dense)                       (None, None, 4)      2232        dense_13[0][0]                   \n",
      "==================================================================================================\n",
      "Total params: 5,316,031\n",
      "Trainable params: 5,316,031\n",
      "Non-trainable params: 0\n",
      "__________________________________________________________________________________________________\n"
     ]
    }
   ],
   "source": [
    "# 2 level, h=400: 5,313,223 params\n",
    "# 1 level, h=400: 2,750,023 params\n",
    "# 1 level, h=557: 5,316,031 params\n",
    "model = build_model(units=557)\n",
    "model.summary()"
   ]
  },
  {
   "cell_type": "code",
   "execution_count": 1,
   "metadata": {},
   "outputs": [
    {
     "name": "stderr",
     "output_type": "stream",
     "text": [
      "C:\\Users\\elaza\\AppData\\Local\\Programs\\Python\\Python38\\lib\\site-packages\\tensorflowjs\\converters\\keras_h5_conversion.py:123: H5pyDeprecationWarning: The default file mode will change to 'r' (read-only) in h5py 3.0. To suppress this warning, pass the mode you need to h5py.File(), or set the global default h5.get_config().default_file_mode, or set the environment variable H5PY_DEFAULT_READONLY=1. Available modes are: 'r', 'r+', 'w', 'w-'/'x', 'a'. See the docs for details.\n",
      "  return h5py.File(h5file)\n"
     ]
    },
    {
     "data": {
      "text/plain": [
       "'2.4.0'"
      ]
     },
     "execution_count": 1,
     "metadata": {},
     "output_type": "execute_result"
    }
   ],
   "source": [
    "import tensorflow as tf\n",
    "import tensorflowjs as tfjs\n",
    "\n",
    "model = tf.keras.models.load_model('final_model/final.h5')\n",
    "tfjs.converters.save_keras_model(model, 'final_model/')\n",
    "tfjs.__version__"
   ]
  },
  {
   "cell_type": "code",
   "execution_count": 3,
   "metadata": {},
   "outputs": [],
   "source": [
    "model = build_model(400)"
   ]
  },
  {
   "cell_type": "code",
   "execution_count": null,
   "metadata": {},
   "outputs": [],
   "source": []
  }
 ],
 "metadata": {
  "kernelspec": {
   "display_name": "Python 3.8.2 64-bit",
   "language": "python",
   "name": "python38264bit9bb923b013d04c19b7222e7ae44d4e24"
  },
  "language_info": {
   "codemirror_mode": {
    "name": "ipython",
    "version": 3
   },
   "file_extension": ".py",
   "mimetype": "text/x-python",
   "name": "python",
   "nbconvert_exporter": "python",
   "pygments_lexer": "ipython3",
   "version": "3.8.2"
  }
 },
 "nbformat": 4,
 "nbformat_minor": 4
}
